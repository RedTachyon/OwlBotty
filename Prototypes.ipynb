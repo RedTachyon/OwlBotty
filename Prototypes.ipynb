{
 "cells": [
  {
   "cell_type": "code",
   "execution_count": 2,
   "metadata": {
    "collapsed": true,
    "deletable": true,
    "editable": true
   },
   "outputs": [],
   "source": [
    "from Run import main\n",
    "from urllib.request import urlopen\n",
    "import json"
   ]
  },
  {
   "cell_type": "code",
   "execution_count": 3,
   "metadata": {
    "collapsed": false,
    "deletable": true,
    "editable": true
   },
   "outputs": [
    {
     "name": "stdout",
     "output_type": "stream",
     "text": [
      "['99aaron', 'adamrzinke', 'aestral_', 'afroshroom', 'agdude88', 'aimzatchu', 'aldis_p', 'arkx10', 'armaros1', 'artorias_of_the_abyss20', 'aubruni1', 'beastyposiedon1', 'bedzandrosez', 'beefhardcheese', 'benefuexx', 'bhunts', 'bigdilgamer', 'blackstorm666', 'breadler', 'brokencrayon7s2', 'canisluneslunes', 'captain_crumble', 'cartophilus', 'cccowboyy', 'chatdb', 'chrisyankeeintx', 'clammshells', 'coldwhiskey_cro', 'crystalfantasycosplay', 'cweena', 'danielab10000', 'defieral', 'deskportal', 'doofyst', 'dragonbeardtv', 'drclaw144', 'emanuelgabriel', 'emiel1605', 'evolutious', 'faaaaaaaaaaaaaaaaaaaaaaan', 'feardinorage1', 'finnen78', 'flaccidpickle', 'gamingturtle1000', 'garglee', 'generaljoop69', 'ghettodog420', 'giantmachine9000', 'golgiapparratus', 'grimmfang13', 'hearfire', 'heyitspearlie', 'iamtoolate', 'igor879', 'ihateregistering123', 'inacsha', 'jackamoe_', 'janski1', 'jefflepotato', 'joehaught1', 'k0rupt', 'kapparimo', 'karael2k14', 'kenney4lyfe', 'kestris', 'lawasoft', 'legacyofraziel4', 'leviroth', 'littletrooper', 'm0rphem', 'magpieuk', 'martin95380', 'michael09856', 'micutzualex', 'middlesign', 'monkieh', 'mreditor', 'nataliexoh', 'nick___x', 'nochancerpg', 'nohandsnerd', 'not_so_fatal', 'notarobot11', 'nsane369', 'nwillcox57', 'nyganz', 'old_man_deuce', 'painkiller003', 'pathryder', 'primitivve', 'qiral', 'ramonpl4yz', 'raydn_', 'razorbeastfxk3', 'rcald2000', 'ringetsunii', 'rjmcbluepants', 'robm105', 'rocket_brother', 'russdseadog', 'sajewers', 'satoriwpictures', 'scorpio2313', 'sea_shepherd_viking', 'shinji242', 'shoemin_', 'shwallows', 'silentjake1978', 'silo1984', 'skintrader_pl', 'smrtphnaddict', 'snowballhatake', 'snozeman', 'southy1994', 'stormravin42', 't_wraith', 'takujiz', 'tellandris', 'tensh0x', 'tensoonsshadow', 'thebulletrain', 'thecloser424', 'therexmorgan', 'theshaggyhobo', 'thesickness21', 'titlacuan', 'toddman747', 'toxicdover', 'twitch93', 'twitchlitebot', 'uzumakispiral', 'vedmand', 'voidvoidvoidvoid', 'warliukss', 'watakun', 'watersmith', 'weewy', 'xminingcreeper', 'xsplitgames', 'xwyfthdwnx', 'yogibearboog', 'yousefalkandari', 'zachjnl', 'zeroflame007', 'matt_thomas', 'moobot', 'naomi']\n"
     ]
    }
   ],
   "source": [
    "url = 'https://tmi.twitch.tv/group/user/naomi/chatters'\n",
    "\n",
    "data = json.loads(urlopen(url).read().decode())\n",
    "print(data['chatters']['viewers'] + data['chatters']['moderators'])"
   ]
  },
  {
   "cell_type": "code",
   "execution_count": 2,
   "metadata": {
    "collapsed": true,
    "deletable": true,
    "editable": true
   },
   "outputs": [],
   "source": [
    "from Loyalty import getData, getUsers"
   ]
  },
  {
   "cell_type": "code",
   "execution_count": 8,
   "metadata": {
    "collapsed": false,
    "deletable": true,
    "editable": true
   },
   "outputs": [
    {
     "data": {
      "text/plain": [
       "{}"
      ]
     },
     "execution_count": 8,
     "metadata": {},
     "output_type": "execute_result"
    }
   ],
   "source": [
    "test = getData('data.csv')\n",
    "test"
   ]
  }
 ],
 "metadata": {
  "kernelspec": {
   "display_name": "Python 3",
   "language": "python",
   "name": "python3"
  },
  "language_info": {
   "codemirror_mode": {
    "name": "ipython",
    "version": 3
   },
   "file_extension": ".py",
   "mimetype": "text/x-python",
   "name": "python",
   "nbconvert_exporter": "python",
   "pygments_lexer": "ipython3",
   "version": "3.5.3"
  }
 },
 "nbformat": 4,
 "nbformat_minor": 2
}
